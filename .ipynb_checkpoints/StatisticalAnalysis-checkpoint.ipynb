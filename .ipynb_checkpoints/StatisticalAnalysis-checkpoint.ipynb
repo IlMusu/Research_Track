{
 "cells": [
  {
   "cell_type": "code",
   "execution_count": 1,
   "id": "8be8ff6b",
   "metadata": {},
   "outputs": [
    {
     "name": "stdout",
     "output_type": "stream",
     "text": [
      "With a confidence level of 5%, I formulate the following hypothesis:\n",
      "H0 : the mean time of Robot1 is the same as the mean time of Robot2.\n",
      "HA : the mean time of Robot1 is more than the mean time of Robot2.\n"
     ]
    }
   ],
   "source": [
    "import numpy\n",
    "import matplotlib.pyplot as plt\n",
    "\n",
    "# It is necessary to formulate the hypotesis before looking at the data.\n",
    "# NB. Here the prof robot is robot1 while mine robot is robot2.\n",
    "# NB. The statistic used is the \"mean time required to perform a loop.\"\n",
    "\n",
    "print(\"With a level of significance of 5%, I formulate the following hypothesis:\");\n",
    "print(\"H0 : the mean time of Robot1 is the same as the mean time of Robot2.\");\n",
    "print(\"HA : the mean time of Robot1 is more than the mean time of Robot2.\");"
   ]
  },
  {
   "cell_type": "code",
   "execution_count": 2,
   "id": "26c53a82",
   "metadata": {},
   "outputs": [],
   "source": [
    "# These data are the time in seconds of the two robots (robot1 and robot2)\n",
    "# took to perform a full lap of the circuit when the silver tokens were\n",
    "# randomized in position and number.\n",
    "\n",
    "x1 = [169.154610872, 160.50631094, 160.193871975, 162.73431015, 171.615926981, 146.42060113, \n",
    "      164.874943018, 166.398561001, 170.71450901, 152.080566883, 165.22359705, 180.650491953, \n",
    "      144.093259811, 150.78562808, 182.404114962, 182.045273066, 186.150043011, 140.57656312, \n",
    "      177.504603863, 144.070997, 187.539128065, 143.842684984, 142.717877865, 182.799865961, \n",
    "      175.961184025, 147.688951015, 169.607371092, 174.986310005, 137.404846907, 147.51603508];\n",
    "\n",
    "x2 = [169.361819983, 150.805945158, 168.974892139, 151.178966045, 171.602332115, 169.894746065, \n",
    "         147.759425163, 161.36490202, 156.596208096, 130.017952919, 132.936256886, 160.277700901, \n",
    "         171.599838972, 181.357331038, 190.249431849, 115.228691101, 114.313158989, 183.150490046, \n",
    "         170.216054201, 172.882122993, 137.24959898, 127.425196886, 128.118843079, 137.255570889, \n",
    "         153.722115993, 161.541566849, 124.616447926, 127.156961918, 116.644661188, 147.857630968];"
   ]
  },
  {
   "cell_type": "code",
   "execution_count": 3,
   "id": "e519d9f1",
   "metadata": {},
   "outputs": [
    {
     "data": {
      "image/png": "[encoded data removed]",
      "text/plain": [
       "<Figure size 1080x360 with 1 Axes>"
      ]
     },
     "metadata": {
      "needs_background": "light"
     },
     "output_type": "display_data"
    }
   ],
   "source": [
    "# Making BoxPlots to visualize graphically the data.\n",
    "fig1, ax1= plt.subplots(1, figsize=(15, 5));\n",
    "plt.subplots_adjust(wspace=0.5, hspace=None);\n",
    "ax1.boxplot([x1, x2]);\n",
    "ax1.set(xticks=[1,2], xticklabels=[\"Robot1\", \"Robot2\"]);"
   ]
  },
  {
   "cell_type": "code",
   "execution_count": 8,
   "id": "fda2cde7",
   "metadata": {},
   "outputs": [],
   "source": [
    "# Since the values are not paired, the Two Sample T-Test is used.\n",
    "# Computing the length of the two observation arrays.\n",
    "N1 = len(x1);\n",
    "N2 = len(x2);\n",
    "# Computing the mean values for the velocities.\n",
    "x1m = numpy.mean(x1);\n",
    "x2m = numpy.mean(x2);\n",
    "# Computing the standard deviation for the velocities.\n",
    "std1 = numpy.std(x1);\n",
    "std2 = numpy.std(x2);\n",
    "\n",
    "# Computing the pooled standard deviation.\n",
    "std_pooled_2 = ((N1-1)*std1*std1 + (N2-1)*std2*std2) / (N1+N2-2);\n",
    "std_pooled = numpy.sqrt(std_pooled_2 * (1/N1 + 1/N2));\n",
    "\n",
    "# Computing the t_statistics for the Two sample T-Test.\n",
    "t_statistics = (x1m - x2m) / std_pooled;"
   ]
  },
  {
   "cell_type": "code",
   "execution_count": 9,
   "id": "67f1ba1c",
   "metadata": {},
   "outputs": [
    {
     "name": "stdout",
     "output_type": "stream",
     "text": [
      "We have DoF=30+30-2=58, reporting the column:\n",
      "One-sided |  75%  |  80%  |  85%  |  90%  |  95%  | 97.5% |  99%  | 99.5% | 99.75%| 99.9% | 99.95 |\n",
      "DoF=60    | 0.679 | 0.848 | 1.045 | 1.296 | 1.671 | 2.000 | 2.390 | 2.660 | 2.915 | 3.232 | 3.460 |\n",
      "\n",
      "Therefore, with a confidence level of 5%,\n",
      "Given the fact that t_statistics = 2.4693785060866476 > 1.671,\n",
      "We can reject the null hypothesis H0 and accept the alternative hypothesis HA.\n"
     ]
    }
   ],
   "source": [
    "# Given the current formulation of the hypothesis, we are considering only\n",
    "# one of the two tails to reject the hypotesis H0. So, we must use the table\n",
    "# related to the one-sided T-Test.\n",
    "\n",
    "print(\"We have DoF=\"+str(N1)+\"+\"+str(N2)+\"-2=\"+str(N1+N2-2)+\", reporting the column:\");\n",
    "print(\"One-sided |  75%  |  80%  |  85%  |  90%  |  95%  | 97.5% |  99%  | 99.5% | 99.75%| 99.9% | 99.95 |\");\n",
    "print(\"DoF=60    | 0.679 | 0.848 | 1.045 | 1.296 | 1.671 | 2.000 | 2.390 | 2.660 | 2.915 | 3.232 | 3.460 |\");\n",
    "print(\"\");\n",
    "\n",
    "# The reference value for a confidence level of 95% and DoF=60 is:\n",
    "ref = 1.671;\n",
    "\n",
    "if t_statistics > ref :\n",
    "    # Rejecting the null hypothesis\n",
    "    print(\"Therefore, with a confidence level of 95% (with an error of 5%),\");\n",
    "    print(\"Given the fact that t_statistics = \"+str(t_statistics)+\" > \"+str(ref)+\",\");\n",
    "    print(\"We can reject the null hypothesis H0 and accept the alternative hypothesis HA.\");\n",
    "else:\n",
    "    # Not rejecting the null hypothesis\n",
    "    print(\"Given the fact that t_statistics = \"+str(t_statistics)+\" <= \"+str(ref)+\",\");\n",
    "    print(\"We cannot reject the null hypothesis H0.\");"
   ]
  },
  {
   "cell_type": "code",
   "execution_count": null,
   "id": "07981e1a",
   "metadata": {},
   "outputs": [],
   "source": []
  }
 ],
 "metadata": {
  "kernelspec": {
   "display_name": "Python 2",
   "language": "python",
   "name": "python2"
  },
  "language_info": {
   "codemirror_mode": {
    "name": "ipython",
    "version": 3
   },
   "file_extension": ".py",
   "mimetype": "text/x-python",
   "name": "python",
   "nbconvert_exporter": "python",
   "pygments_lexer": "ipython3",
   "version": "3.8.10"
  },
  "varInspector": {
   "cols": {
    "lenName": 16,
    "lenType": 16,
    "lenVar": 40
   },
   "kernels_config": {
    "python": {
     "delete_cmd_postfix": "",
     "delete_cmd_prefix": "del ",
     "library": "var_list.py",
     "varRefreshCmd": "print(var_dic_list())"
    },
    "r": {
     "delete_cmd_postfix": ") ",
     "delete_cmd_prefix": "rm(",
     "library": "var_list.r",
     "varRefreshCmd": "cat(var_dic_list()) "
    }
   },
   "types_to_exclude": [
    "module",
    "function",
    "builtin_function_or_method",
    "instance",
    "_Feature"
   ],
   "window_display": false
  }
 },
 "nbformat": 4,
 "nbformat_minor": 5
}
